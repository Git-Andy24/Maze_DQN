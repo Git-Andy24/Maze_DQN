{
 "cells": [
  {
   "cell_type": "code",
   "execution_count": null,
   "metadata": {},
   "outputs": [
    {
     "name": "stderr",
     "output_type": "stream",
     "text": [
      "134.42s - pydevd: Sending message related to process being replaced timed-out after 5 seconds\n"
     ]
    },
    {
     "name": "stdout",
     "output_type": "stream",
     "text": [
      "Requirement already satisfied: numpy in ./.venv/lib/python3.11/site-packages (2.0.2)\n",
      "Note: you may need to restart the kernel to use updated packages.\n"
     ]
    },
    {
     "name": "stderr",
     "output_type": "stream",
     "text": [
      "140.18s - pydevd: Sending message related to process being replaced timed-out after 5 seconds\n"
     ]
    },
    {
     "name": "stdout",
     "output_type": "stream",
     "text": [
      "Requirement already satisfied: opencv-python in ./.venv/lib/python3.11/site-packages (4.10.0.84)\n",
      "Requirement already satisfied: numpy>=1.21.2 in ./.venv/lib/python3.11/site-packages (from opencv-python) (2.0.2)\n",
      "Note: you may need to restart the kernel to use updated packages.\n"
     ]
    },
    {
     "name": "stderr",
     "output_type": "stream",
     "text": [
      "145.79s - pydevd: Sending message related to process being replaced timed-out after 5 seconds\n"
     ]
    },
    {
     "name": "stdout",
     "output_type": "stream",
     "text": [
      "Requirement already satisfied: tensorflow in ./.venv/lib/python3.11/site-packages (2.18.0)\n",
      "Requirement already satisfied: absl-py>=1.0.0 in ./.venv/lib/python3.11/site-packages (from tensorflow) (2.1.0)\n",
      "Requirement already satisfied: astunparse>=1.6.0 in ./.venv/lib/python3.11/site-packages (from tensorflow) (1.6.3)\n",
      "Requirement already satisfied: flatbuffers>=24.3.25 in ./.venv/lib/python3.11/site-packages (from tensorflow) (24.3.25)\n",
      "Requirement already satisfied: gast!=0.5.0,!=0.5.1,!=0.5.2,>=0.2.1 in ./.venv/lib/python3.11/site-packages (from tensorflow) (0.6.0)\n",
      "Requirement already satisfied: google-pasta>=0.1.1 in ./.venv/lib/python3.11/site-packages (from tensorflow) (0.2.0)\n",
      "Requirement already satisfied: libclang>=13.0.0 in ./.venv/lib/python3.11/site-packages (from tensorflow) (18.1.1)\n",
      "Requirement already satisfied: opt-einsum>=2.3.2 in ./.venv/lib/python3.11/site-packages (from tensorflow) (3.4.0)\n",
      "Requirement already satisfied: packaging in ./.venv/lib/python3.11/site-packages (from tensorflow) (24.2)\n",
      "Requirement already satisfied: protobuf!=4.21.0,!=4.21.1,!=4.21.2,!=4.21.3,!=4.21.4,!=4.21.5,<6.0.0dev,>=3.20.3 in ./.venv/lib/python3.11/site-packages (from tensorflow) (5.28.3)\n",
      "Requirement already satisfied: requests<3,>=2.21.0 in ./.venv/lib/python3.11/site-packages (from tensorflow) (2.32.3)\n",
      "Requirement already satisfied: setuptools in ./.venv/lib/python3.11/site-packages (from tensorflow) (74.1.2)\n",
      "Requirement already satisfied: six>=1.12.0 in ./.venv/lib/python3.11/site-packages (from tensorflow) (1.16.0)\n",
      "Requirement already satisfied: termcolor>=1.1.0 in ./.venv/lib/python3.11/site-packages (from tensorflow) (2.5.0)\n",
      "Requirement already satisfied: typing-extensions>=3.6.6 in ./.venv/lib/python3.11/site-packages (from tensorflow) (4.12.2)\n",
      "Requirement already satisfied: wrapt>=1.11.0 in ./.venv/lib/python3.11/site-packages (from tensorflow) (1.16.0)\n",
      "Requirement already satisfied: grpcio<2.0,>=1.24.3 in ./.venv/lib/python3.11/site-packages (from tensorflow) (1.68.0)\n",
      "Requirement already satisfied: tensorboard<2.19,>=2.18 in ./.venv/lib/python3.11/site-packages (from tensorflow) (2.18.0)\n",
      "Requirement already satisfied: keras>=3.5.0 in ./.venv/lib/python3.11/site-packages (from tensorflow) (3.6.0)\n",
      "Requirement already satisfied: numpy<2.1.0,>=1.26.0 in ./.venv/lib/python3.11/site-packages (from tensorflow) (2.0.2)\n",
      "Requirement already satisfied: h5py>=3.11.0 in ./.venv/lib/python3.11/site-packages (from tensorflow) (3.12.1)\n",
      "Requirement already satisfied: ml-dtypes<0.5.0,>=0.4.0 in ./.venv/lib/python3.11/site-packages (from tensorflow) (0.4.1)\n",
      "Requirement already satisfied: tensorflow-io-gcs-filesystem>=0.23.1 in ./.venv/lib/python3.11/site-packages (from tensorflow) (0.37.1)\n",
      "Requirement already satisfied: wheel<1.0,>=0.23.0 in ./.venv/lib/python3.11/site-packages (from astunparse>=1.6.0->tensorflow) (0.45.0)\n",
      "Requirement already satisfied: rich in ./.venv/lib/python3.11/site-packages (from keras>=3.5.0->tensorflow) (13.9.4)\n",
      "Requirement already satisfied: namex in ./.venv/lib/python3.11/site-packages (from keras>=3.5.0->tensorflow) (0.0.8)\n",
      "Requirement already satisfied: optree in ./.venv/lib/python3.11/site-packages (from keras>=3.5.0->tensorflow) (0.13.1)\n",
      "Requirement already satisfied: charset-normalizer<4,>=2 in ./.venv/lib/python3.11/site-packages (from requests<3,>=2.21.0->tensorflow) (3.4.0)\n",
      "Requirement already satisfied: idna<4,>=2.5 in ./.venv/lib/python3.11/site-packages (from requests<3,>=2.21.0->tensorflow) (3.10)\n",
      "Requirement already satisfied: urllib3<3,>=1.21.1 in ./.venv/lib/python3.11/site-packages (from requests<3,>=2.21.0->tensorflow) (2.2.3)\n",
      "Requirement already satisfied: certifi>=2017.4.17 in ./.venv/lib/python3.11/site-packages (from requests<3,>=2.21.0->tensorflow) (2024.8.30)\n",
      "Requirement already satisfied: markdown>=2.6.8 in ./.venv/lib/python3.11/site-packages (from tensorboard<2.19,>=2.18->tensorflow) (3.7)\n",
      "Requirement already satisfied: tensorboard-data-server<0.8.0,>=0.7.0 in ./.venv/lib/python3.11/site-packages (from tensorboard<2.19,>=2.18->tensorflow) (0.7.2)\n",
      "Requirement already satisfied: werkzeug>=1.0.1 in ./.venv/lib/python3.11/site-packages (from tensorboard<2.19,>=2.18->tensorflow) (3.1.3)\n",
      "Requirement already satisfied: MarkupSafe>=2.1.1 in ./.venv/lib/python3.11/site-packages (from werkzeug>=1.0.1->tensorboard<2.19,>=2.18->tensorflow) (3.0.2)\n",
      "Requirement already satisfied: markdown-it-py>=2.2.0 in ./.venv/lib/python3.11/site-packages (from rich->keras>=3.5.0->tensorflow) (3.0.0)\n",
      "Requirement already satisfied: pygments<3.0.0,>=2.13.0 in ./.venv/lib/python3.11/site-packages (from rich->keras>=3.5.0->tensorflow) (2.18.0)\n",
      "Requirement already satisfied: mdurl~=0.1 in ./.venv/lib/python3.11/site-packages (from markdown-it-py>=2.2.0->rich->keras>=3.5.0->tensorflow) (0.1.2)\n",
      "Note: you may need to restart the kernel to use updated packages.\n"
     ]
    },
    {
     "name": "stderr",
     "output_type": "stream",
     "text": [
      "151.43s - pydevd: Sending message related to process being replaced timed-out after 5 seconds\n"
     ]
    },
    {
     "name": "stdout",
     "output_type": "stream",
     "text": [
      "Requirement already satisfied: matplotlib in ./.venv/lib/python3.11/site-packages (3.9.2)\n",
      "Requirement already satisfied: contourpy>=1.0.1 in ./.venv/lib/python3.11/site-packages (from matplotlib) (1.3.1)\n",
      "Requirement already satisfied: cycler>=0.10 in ./.venv/lib/python3.11/site-packages (from matplotlib) (0.12.1)\n",
      "Requirement already satisfied: fonttools>=4.22.0 in ./.venv/lib/python3.11/site-packages (from matplotlib) (4.55.0)\n",
      "Requirement already satisfied: kiwisolver>=1.3.1 in ./.venv/lib/python3.11/site-packages (from matplotlib) (1.4.7)\n",
      "Requirement already satisfied: numpy>=1.23 in ./.venv/lib/python3.11/site-packages (from matplotlib) (2.0.2)\n",
      "Requirement already satisfied: packaging>=20.0 in ./.venv/lib/python3.11/site-packages (from matplotlib) (24.2)\n",
      "Requirement already satisfied: pillow>=8 in ./.venv/lib/python3.11/site-packages (from matplotlib) (11.0.0)\n",
      "Requirement already satisfied: pyparsing>=2.3.1 in ./.venv/lib/python3.11/site-packages (from matplotlib) (3.2.0)\n",
      "Requirement already satisfied: python-dateutil>=2.7 in ./.venv/lib/python3.11/site-packages (from matplotlib) (2.9.0.post0)\n",
      "Requirement already satisfied: six>=1.5 in ./.venv/lib/python3.11/site-packages (from python-dateutil>=2.7->matplotlib) (1.16.0)\n",
      "Note: you may need to restart the kernel to use updated packages.\n"
     ]
    },
    {
     "name": "stderr",
     "output_type": "stream",
     "text": [
      "157.04s - pydevd: Sending message related to process being replaced timed-out after 5 seconds\n"
     ]
    },
    {
     "name": "stdout",
     "output_type": "stream",
     "text": [
      "Requirement already satisfied: gym in ./.venv/lib/python3.11/site-packages (0.26.2)\n",
      "Requirement already satisfied: numpy>=1.18.0 in ./.venv/lib/python3.11/site-packages (from gym) (2.0.2)\n",
      "Requirement already satisfied: cloudpickle>=1.2.0 in ./.venv/lib/python3.11/site-packages (from gym) (3.1.0)\n",
      "Requirement already satisfied: gym-notices>=0.0.4 in ./.venv/lib/python3.11/site-packages (from gym) (0.0.8)\n",
      "Note: you may need to restart the kernel to use updated packages.\n"
     ]
    },
    {
     "name": "stderr",
     "output_type": "stream",
     "text": [
      "162.73s - pydevd: Sending message related to process being replaced timed-out after 5 seconds\n"
     ]
    },
    {
     "name": "stdout",
     "output_type": "stream",
     "text": [
      "Collecting numba\n",
      "  Downloading numba-0.60.0-cp311-cp311-macosx_11_0_arm64.whl.metadata (2.7 kB)\n",
      "Collecting llvmlite<0.44,>=0.43.0dev0 (from numba)\n",
      "  Downloading llvmlite-0.43.0-cp311-cp311-macosx_11_0_arm64.whl.metadata (4.8 kB)\n",
      "Requirement already satisfied: numpy<2.1,>=1.22 in ./.venv/lib/python3.11/site-packages (from numba) (2.0.2)\n",
      "Downloading numba-0.60.0-cp311-cp311-macosx_11_0_arm64.whl (2.6 MB)\n",
      "\u001b[2K   \u001b[90m━━━━━━━━━━━━━━━━━━━━━━━━━━━━━━━━━━━━━━━━\u001b[0m \u001b[32m2.6/2.6 MB\u001b[0m \u001b[31m5.1 MB/s\u001b[0m eta \u001b[36m0:00:00\u001b[0ma \u001b[36m0:00:01\u001b[0m\n",
      "\u001b[?25hDownloading llvmlite-0.43.0-cp311-cp311-macosx_11_0_arm64.whl (28.8 MB)\n",
      "\u001b[2K   \u001b[90m━━━━━━━━━━━━━━━━━━━━━━━━━━━━━━━━━━━━━━━━\u001b[0m \u001b[32m28.8/28.8 MB\u001b[0m \u001b[31m5.1 MB/s\u001b[0m eta \u001b[36m0:00:00\u001b[0ma \u001b[36m0:00:01\u001b[0m\n",
      "\u001b[?25hInstalling collected packages: llvmlite, numba\n",
      "Successfully installed llvmlite-0.43.0 numba-0.60.0\n",
      "Note: you may need to restart the kernel to use updated packages.\n"
     ]
    },
    {
     "name": "stderr",
     "output_type": "stream",
     "text": [
      "176.95s - pydevd: Sending message related to process being replaced timed-out after 5 seconds\n"
     ]
    },
    {
     "name": "stdout",
     "output_type": "stream",
     "text": [
      "Collecting tqdm\n",
      "  Downloading tqdm-4.67.0-py3-none-any.whl.metadata (57 kB)\n",
      "Downloading tqdm-4.67.0-py3-none-any.whl (78 kB)\n",
      "Installing collected packages: tqdm\n",
      "Successfully installed tqdm-4.67.0\n",
      "Note: you may need to restart the kernel to use updated packages.\n"
     ]
    }
   ],
   "source": [
    "%pip install numpy\n",
    "%pip install matplotlib"
   ]
  },
  {
   "cell_type": "code",
   "execution_count": 23,
   "metadata": {},
   "outputs": [
    {
     "name": "stderr",
     "output_type": "stream",
     "text": [
      "2549.72s - pydevd: Sending message related to process being replaced timed-out after 5 seconds\n"
     ]
    },
    {
     "name": "stdout",
     "output_type": "stream",
     "text": [
      "Looking in indexes: https://download.pytorch.org/whl/nightly/cpu\n",
      "Collecting torch\n",
      "  Downloading https://download.pytorch.org/whl/nightly/cpu/torch-2.6.0.dev20241116-cp311-none-macosx_11_0_arm64.whl (64.4 MB)\n",
      "\u001b[2K     \u001b[90m━━━━━━━━━━━━━━━━━━━━━━━━━━━━━━━━━━━━━━━━\u001b[0m \u001b[32m64.4/64.4 MB\u001b[0m \u001b[31m5.3 MB/s\u001b[0m eta \u001b[36m0:00:00\u001b[0m00:01\u001b[0m00:01\u001b[0m\n",
      "\u001b[?25hCollecting torchvision\n",
      "  Downloading https://download.pytorch.org/whl/nightly/cpu/torchvision-0.20.0.dev20241115-cp311-cp311-macosx_11_0_arm64.whl (1.9 MB)\n",
      "\u001b[2K     \u001b[90m━━━━━━━━━━━━━━━━━━━━━━━━━━━━━━━━━━━━━━━━\u001b[0m \u001b[32m1.9/1.9 MB\u001b[0m \u001b[31m4.3 MB/s\u001b[0m eta \u001b[36m0:00:00\u001b[0ma \u001b[36m0:00:01\u001b[0m\n",
      "\u001b[?25hCollecting torchaudio\n",
      "  Downloading https://download.pytorch.org/whl/nightly/cpu/torchaudio-2.5.0.dev20241115-cp311-cp311-macosx_11_0_arm64.whl (1.8 MB)\n",
      "\u001b[2K     \u001b[90m━━━━━━━━━━━━━━━━━━━━━━━━━━━━━━━━━━━━━━━━\u001b[0m \u001b[32m1.8/1.8 MB\u001b[0m \u001b[31m5.1 MB/s\u001b[0m eta \u001b[36m0:00:00\u001b[0ma \u001b[36m0:00:01\u001b[0m\n",
      "\u001b[?25hCollecting filelock (from torch)\n",
      "  Downloading https://download.pytorch.org/whl/nightly/filelock-3.16.1-py3-none-any.whl (16 kB)\n",
      "Collecting typing-extensions>=4.10.0 (from torch)\n",
      "  Downloading https://download.pytorch.org/whl/nightly/typing_extensions-4.12.2-py3-none-any.whl (37 kB)\n",
      "Collecting networkx (from torch)\n",
      "  Downloading https://download.pytorch.org/whl/nightly/networkx-3.4.2-py3-none-any.whl (1.7 MB)\n",
      "\u001b[2K     \u001b[90m━━━━━━━━━━━━━━━━━━━━━━━━━━━━━━━━━━━━━━━━\u001b[0m \u001b[32m1.7/1.7 MB\u001b[0m \u001b[31m5.3 MB/s\u001b[0m eta \u001b[36m0:00:00\u001b[0ma \u001b[36m0:00:01\u001b[0m\n",
      "\u001b[?25hCollecting jinja2 (from torch)\n",
      "  Downloading https://download.pytorch.org/whl/nightly/jinja2-3.1.4-py3-none-any.whl (133 kB)\n",
      "Collecting fsspec (from torch)\n",
      "  Downloading https://download.pytorch.org/whl/nightly/fsspec-2024.10.0-py3-none-any.whl (179 kB)\n",
      "Collecting sympy==1.13.1 (from torch)\n",
      "  Downloading https://download.pytorch.org/whl/nightly/sympy-1.13.1-py3-none-any.whl (6.2 MB)\n",
      "\u001b[2K     \u001b[90m━━━━━━━━━━━━━━━━━━━━━━━━━━━━━━━━━━━━━━━━\u001b[0m \u001b[32m6.2/6.2 MB\u001b[0m \u001b[31m5.4 MB/s\u001b[0m eta \u001b[36m0:00:00\u001b[0ma \u001b[36m0:00:01\u001b[0m\n",
      "\u001b[?25hCollecting mpmath<1.4,>=1.1.0 (from sympy==1.13.1->torch)\n",
      "  Downloading https://download.pytorch.org/whl/nightly/mpmath-1.3.0-py3-none-any.whl (536 kB)\n",
      "\u001b[2K     \u001b[90m━━━━━━━━━━━━━━━━━━━━━━━━━━━━━━━━━━━━━━━\u001b[0m \u001b[32m536.2/536.2 kB\u001b[0m \u001b[31m4.8 MB/s\u001b[0m eta \u001b[36m0:00:00\u001b[0m\n",
      "\u001b[?25hRequirement already satisfied: numpy in ./.venv/lib/python3.11/site-packages (from torchvision) (1.24.3)\n",
      "Collecting torch\n",
      "  Downloading https://download.pytorch.org/whl/nightly/cpu/torch-2.6.0.dev20241115-cp311-none-macosx_11_0_arm64.whl (66.0 MB)\n",
      "\u001b[2K     \u001b[90m━━━━━━━━━━━━━━━━━━━━━━━━━━━━━━━━━━━━━━━━\u001b[0m \u001b[32m66.0/66.0 MB\u001b[0m \u001b[31m5.4 MB/s\u001b[0m eta \u001b[36m0:00:00\u001b[0m00:01\u001b[0m00:01\u001b[0m\n",
      "\u001b[?25hRequirement already satisfied: pillow!=8.3.*,>=5.3.0 in ./.venv/lib/python3.11/site-packages (from torchvision) (11.0.0)\n",
      "Requirement already satisfied: MarkupSafe>=2.0 in ./.venv/lib/python3.11/site-packages (from jinja2->torch) (3.0.2)\n",
      "Installing collected packages: mpmath, typing-extensions, sympy, networkx, jinja2, fsspec, filelock, torch, torchvision, torchaudio\n",
      "  Attempting uninstall: typing-extensions\n",
      "    Found existing installation: typing_extensions 4.5.0\n",
      "    Uninstalling typing_extensions-4.5.0:\n",
      "      Successfully uninstalled typing_extensions-4.5.0\n",
      "Successfully installed filelock-3.16.1 fsspec-2024.10.0 jinja2-3.1.4 mpmath-1.3.0 networkx-3.4.2 sympy-1.13.1 torch-2.6.0.dev20241115 torchaudio-2.5.0.dev20241115 torchvision-0.20.0.dev20241115 typing-extensions-4.12.2\n",
      "Note: you may need to restart the kernel to use updated packages.\n"
     ]
    }
   ],
   "source": [
    "%pip install --pre torch torchvision torchaudio --index-url https://download.pytorch.org/whl/nightly/cpu"
   ]
  },
  {
   "cell_type": "code",
   "execution_count": null,
   "metadata": {},
   "outputs": [
    {
     "name": "stdout",
     "output_type": "stream",
     "text": [
      "PyTorch version: 2.6.0.dev20241115\n",
      "MPS (Metal) available: True\n",
      "MPS device available: True\n",
      "Using device: mps\n",
      "GPU computation successful!\n",
      "Result shape: torch.Size([1000, 1000])\n"
     ]
    }
   ],
   "source": [
    "#checking if gpu is accessible on mac (optional)\n",
    "import torch\n",
    "\n",
    "# Check PyTorch version and GPU availability\n",
    "print(f\"PyTorch version: {torch.__version__}\")\n",
    "print(f\"MPS (Metal) available: {torch.backends.mps.is_available()}\")\n",
    "print(f\"MPS device available: {torch.backends.mps.is_built()}\")\n",
    "\n",
    "# Set device\n",
    "device = torch.device(\"mps\" if torch.backends.mps.is_available() else \"cpu\")\n",
    "print(f\"Using device: {device}\")\n",
    "\n",
    "# Test computation on GPU\n",
    "try:\n",
    "    # Create tensors\n",
    "    x = torch.rand(1000, 1000).to(device)\n",
    "    y = torch.rand(1000, 1000).to(device)\n",
    "    \n",
    "    # Perform matrix multiplication\n",
    "    z = torch.matmul(x, y)\n",
    "    \n",
    "    print(\"GPU computation successful!\")\n",
    "    print(f\"Result shape: {z.shape}\")\n",
    "except Exception as e:\n",
    "    print(f\"Error: {e}\")"
   ]
  },
  {
   "cell_type": "code",
   "execution_count": null,
   "metadata": {},
   "outputs": [
    {
     "name": "stdout",
     "output_type": "stream",
     "text": [
      "Using device: mps\n"
     ]
    },
    {
     "data": {
      "image/png": "[encoded data removed]",
      "text/plain": [
       "<Figure size 640x480 with 1 Axes>"
      ]
     },
     "metadata": {},
     "output_type": "display_data"
    }
   ],
   "source": [
    "import time\n",
    "import numpy as np\n",
    "import random\n",
    "import torch\n",
    "import torch.nn as nn\n",
    "import torch.optim as optim\n",
    "from collections import deque\n",
    "import matplotlib.pyplot as plt\n",
    "from IPython.display import clear_output\n",
    "import os\n",
    "\n",
    "# Check for GPU\n",
    "device = torch.device(\"mps\" if torch.backends.mps.is_available() else \"cpu\")#on apple silicon\n",
    "#on windows: device=torch.device(\"cuda\" if torch.backends.cuda.is_available() else \"cpu\")\n",
    "print(f\"Using device: {device}\")\n",
    "\n",
    "# Define the Maze environment\n",
    "\n",
    "class MazeEnv:\n",
    "    def __init__(self, size=15, wall_density=0.2):\n",
    "        self.size = size\n",
    "        self.agent_pos = [0, 0]\n",
    "        self.goal_pos = [self.size - 1, self.size - 1]\n",
    "        self.wall_density = wall_density\n",
    "        self.maze = self._generate_maze()\n",
    "        self.idle_counter = 0  # Track consecutive idle steps\n",
    "        self.idle_penalty_threshold = 5  # Number of consecutive idle steps before penalty\n",
    "\n",
    "    def reset(self):\n",
    "        self.agent_pos = [0, 0]\n",
    "        self.goal_pos = [self.size - 1, self.size - 1]\n",
    "        return self._get_state()\n",
    "\n",
    "    def _generate_maze(self):\n",
    "        # Initialize the maze with zeros\n",
    "        maze = np.zeros((self.size, self.size))\n",
    "\n",
    "        # Randomly place walls based on wall_density\n",
    "        for _ in range(int(self.size * self.size * self.wall_density)):\n",
    "            x, y = random.randint(0, self.size - 1), random.randint(0, self.size - 1)\n",
    "            if [x, y] != self.agent_pos and [x, y] != self.goal_pos:\n",
    "                maze[x, y] = 1\n",
    "\n",
    "        # Ensure a valid path exists after placing walls\n",
    "        self._ensure_path_exists(maze)\n",
    "        return maze\n",
    "\n",
    "    def _ensure_path_exists(self, maze):\n",
    "        \"\"\"\n",
    "        Ensures there is a valid path from agent_pos to goal_pos by carving a DFS-based path if needed.\n",
    "        \"\"\"\n",
    "        stack = [self.agent_pos]\n",
    "        visited = set()\n",
    "        visited.add(tuple(self.agent_pos))\n",
    "        directions = [(-1, 0), (1, 0), (0, -1), (0, 1)]\n",
    "\n",
    "        # Attempt to find a valid path using DFS\n",
    "        while stack:\n",
    "            current = stack.pop()\n",
    "            if current == self.goal_pos:\n",
    "                return  # Path found, no further carving needed\n",
    "\n",
    "            random.shuffle(directions)\n",
    "            for direction in directions:\n",
    "                next_pos = [current[0] + direction[0], current[1] + direction[1]]\n",
    "                if 0 <= next_pos[0] < self.size and 0 <= next_pos[1] < self.size:\n",
    "                    if tuple(next_pos) not in visited and maze[next_pos[0], next_pos[1]] == 0:\n",
    "                        visited.add(tuple(next_pos))\n",
    "                        stack.append(next_pos)\n",
    "\n",
    "        # If no path is found, carve a direct path using DFS\n",
    "        print(\"No valid path found, carving a direct path.\")\n",
    "        current = self.agent_pos\n",
    "        visited = set()\n",
    "        visited.add(tuple(current))\n",
    "        stack = [current]\n",
    "\n",
    "        while stack:\n",
    "            current = stack[-1]\n",
    "            if current == self.goal_pos:\n",
    "                break\n",
    "\n",
    "            random.shuffle(directions)\n",
    "            path_extended = False\n",
    "            for direction in directions:\n",
    "                next_pos = [current[0] + direction[0], current[1] + direction[1]]\n",
    "                if 0 <= next_pos[0] < self.size and 0 <= next_pos[1] < self.size and tuple(next_pos) not in visited:\n",
    "                    # Carve the path\n",
    "                    maze[next_pos[0], next_pos[1]] = 0\n",
    "                    visited.add(tuple(next_pos))\n",
    "                    stack.append(next_pos)\n",
    "                    path_extended = True\n",
    "                    break\n",
    "\n",
    "            if not path_extended:\n",
    "                stack.pop()  # Backtrack if no further path can be extended\n",
    "\n",
    "        # Ensure the start and goal positions are open\n",
    "        maze[self.agent_pos[0], self.agent_pos[1]] = 0\n",
    "        maze[self.goal_pos[0], self.goal_pos[1]] = 0\n",
    "\n",
    "    def _get_state(self):\n",
    "        return self.agent_pos[0] * self.size + self.agent_pos[1]\n",
    "\n",
    "    def step(self, action):\n",
    "        reward = 0\n",
    "        moves = [(-1, 0), (1, 0), (0, -1), (0, 1)]\n",
    "        next_pos = [self.agent_pos[0] + moves[action][0], self.agent_pos[1] + moves[action][1]]\n",
    "\n",
    "        # Check if the move is within bounds and not a wall\n",
    "        if 0 <= next_pos[0] < self.size and 0 <= next_pos[1] < self.size:\n",
    "            if self.maze[next_pos[0], next_pos[1]] == 0:\n",
    "                # Valid move\n",
    "                if next_pos == self.agent_pos:\n",
    "                    # Idle move (no change in position)\n",
    "                    self.idle_counter += 1\n",
    "                else:\n",
    "                    # Reset idle counter if the agent moved\n",
    "                    self.idle_counter = 0\n",
    "                    self.agent_pos = next_pos\n",
    "                reward = -1 # Step penalty\n",
    "\n",
    "            else:\n",
    "                reward= -10\n",
    "\n",
    "        # Apply idle penalty if the agent has stayed idle for too long\n",
    "        if self.idle_counter >= self.idle_penalty_threshold:\n",
    "            reward -= 15  # Idle penalty\n",
    "                   \n",
    "        # Compute distance-based reward\n",
    "        current_distance = np.linalg.norm(np.array(self.agent_pos) - np.array(self.goal_pos))\n",
    "        next_distance = np.linalg.norm(np.array(next_pos) - np.array(self.goal_pos))\n",
    "\n",
    "        if next_distance < current_distance:\n",
    "            reward += 30  # Positive reward for getting closer\n",
    "        else:\n",
    "            reward -= 20  # Negative reward for moving away\n",
    "\n",
    "        # Check if the agent has reached the goal\n",
    "        done = False\n",
    "        if self.agent_pos == self.goal_pos:\n",
    "            reward = 90\n",
    "            done = True\n",
    "\n",
    "        return self._get_state(), reward, done, {}\n",
    "\n",
    "    def render(self):\n",
    "        grid = np.copy(self.maze)\n",
    "        grid[self.agent_pos[0], self.agent_pos[1]] = 2\n",
    "        grid[self.goal_pos[0], self.goal_pos[1]] = 3\n",
    "        plt.imshow(grid, cmap='viridis')\n",
    "        plt.show()\n",
    "\n",
    "# Define the Q-network using PyTorch\n",
    "class QNetwork(nn.Module):\n",
    "    def __init__(self, state_size, action_size):\n",
    "        super(QNetwork, self).__init__()\n",
    "        self.fc1 = nn.Linear(state_size, 16)\n",
    "        self.fc2 = nn.Linear(16, 16)\n",
    "        self.fc3 = nn.Linear(16, action_size)\n",
    "\n",
    "    def forward(self, x):\n",
    "        x = torch.relu(self.fc1(x))\n",
    "        x = torch.relu(self.fc2(x))\n",
    "        return self.fc3(x)\n",
    "\n",
    "# Hyperparameters\n",
    "state_size = 225\n",
    "action_size = 4\n",
    "alpha = 0.001\n",
    "gamma = 0.99\n",
    "epsilon = 1.0\n",
    "epsilon_min = 0.1\n",
    "epsilon_decay = 0.995\n",
    "batch_size = 32\n",
    "memory_size = 25000\n",
    "episodes = 500\n",
    "save_interval = 10\n",
    "\n",
    "# Initialize networks, optimizer, and memory\n",
    "q_network = QNetwork(state_size, action_size).to(device)\n",
    "target_network = QNetwork(state_size, action_size).to(device)\n",
    "target_network.load_state_dict(q_network.state_dict())\n",
    "optimizer = optim.Adam(q_network.parameters(), lr=alpha)\n",
    "loss_fn = nn.MSELoss()\n",
    "\n",
    "memory = deque(maxlen=memory_size)\n",
    "\n",
    "# Initialize environment\n",
    "env = MazeEnv(size=15, wall_density=0.2)\n",
    "#env.render()\n",
    "\n",
    "# Helper function to choose an action\n",
    "def choose_action(state):\n",
    "    state_one_hot = np.zeros(state_size)\n",
    "    state_one_hot[state] = 1\n",
    "    state_tensor = torch.tensor(state_one_hot, dtype=torch.float32).to(device)\n",
    "    if random.random() < epsilon:\n",
    "        return random.choice([0, 1, 2, 3])\n",
    "    with torch.no_grad():\n",
    "        q_values = q_network(state_tensor)\n",
    "    return torch.argmax(q_values).item()\n",
    "\n",
    "# Train the Q-network\n",
    "def train_q_network():\n",
    "    if len(memory) < batch_size:\n",
    "        return\n",
    "\n",
    "    minibatch = random.sample(memory, batch_size)\n",
    "    states, targets = [], []\n",
    "\n",
    "    for state, action, reward, next_state, done in minibatch:\n",
    "        state_one_hot = np.zeros(state_size)\n",
    "        state_one_hot[state] = 1\n",
    "        next_state_one_hot = np.zeros(state_size)\n",
    "        next_state_one_hot[next_state] = 1\n",
    "\n",
    "        state_tensor = torch.tensor(state_one_hot, dtype=torch.float32).to(device)\n",
    "        next_state_tensor = torch.tensor(next_state_one_hot, dtype=torch.float32).to(device)\n",
    "\n",
    "        with torch.no_grad():\n",
    "            target_q_values = target_network(next_state_tensor)\n",
    "            max_next_q_value = torch.max(target_q_values).item()\n",
    "\n",
    "        target = reward + (gamma * max_next_q_value * (1 - done))\n",
    "        target_q_values = q_network(state_tensor)\n",
    "        target_q_values[action] = target\n",
    "\n",
    "        states.append(state_tensor)\n",
    "        targets.append(target_q_values)\n",
    "\n",
    "    states = torch.stack(states)\n",
    "    targets = torch.stack(targets)\n",
    "    optimizer.zero_grad()\n",
    "    output = q_network(states)\n",
    "    loss = loss_fn(output, targets)\n",
    "    loss.backward()\n",
    "    optimizer.step()\n",
    "\n",
    "env.render()"
   ]
  },
  {
   "cell_type": "code",
   "execution_count": null,
   "metadata": {},
   "outputs": [],
   "source": [
    "# Main training loop\n",
    "\n",
    "model_path = f'non_idle_q_network_torch.pt'\n",
    "\n",
    "map_fixed_for_episodes = 20  # Number of episodes to keep the same map\n",
    "\n",
    "\n",
    "for episode in range(episodes):\n",
    "\n",
    "    state = env.reset()\n",
    "    if(episodes % map_fixed_for_episodes==0 and episodes!=0):\n",
    "        env=MazeEnv()\n",
    "    done = False\n",
    "    total_reward = 0\n",
    "    while not done:\n",
    "        # env.render()\n",
    "        action = choose_action(state)\n",
    "        next_state, reward, done, _ = env.step(action)\n",
    "\n",
    "        # Store experience in memory\n",
    "        memory.append((state, action, reward, next_state, done))\n",
    "\n",
    "        # Train the Q-network\n",
    "        train_q_network()\n",
    "        \n",
    "        # clear_output(wait=True)\n",
    "        state = next_state\n",
    "        total_reward += reward\n",
    "\n",
    "\n",
    "    epsilon = max(epsilon_min, epsilon * epsilon_decay)\n",
    "  \n",
    "    # Save model every 'save_interval' episodes\n",
    "    if episode % save_interval == 0:\n",
    "        torch.save(q_network.state_dict(), model_path)\n"
   ]
  },
  {
   "cell_type": "code",
   "execution_count": 5,
   "metadata": {},
   "outputs": [
    {
     "name": "stdout",
     "output_type": "stream",
     "text": [
      "Starting Testing Phase...\n"
     ]
    }
   ],
   "source": [
    "# Testing\n",
    "test_episodes = 1  # Number of test episodes\n",
    "print(\"Starting Testing Phase...\")\n",
    "\n",
    "model_path = f'non_idle_q_network_torch.pt'\n",
    "q_network_test = QNetwork(state_size, action_size).to(device)\n"
   ]
  },
  {
   "cell_type": "code",
   "execution_count": 10,
   "metadata": {},
   "outputs": [
    {
     "data": {
      "image/png": "[encoded data removed]",
      "text/plain": [
       "<Figure size 640x480 with 1 Axes>"
      ]
     },
     "metadata": {},
     "output_type": "display_data"
    }
   ],
   "source": [
    "try:\n",
    "    q_network_test.load_state_dict(torch.load(model_path))\n",
    "    print(\"Model loaded successfully for testing.\")\n",
    "except Exception as e:\n",
    "    print(f\"Error loading model: {e}\")\n",
    "\n",
    "def choose_action_test(state):\n",
    "    state_one_hot = np.zeros(state_size)\n",
    "    state_one_hot[state] = 1\n",
    "    state_tensor = torch.tensor(state_one_hot, dtype=torch.float32).to(device)\n",
    "    if random.random() < 0.5:\n",
    "        return random.choice([0,1,2,3])\n",
    "    with torch.no_grad():\n",
    "        q_values = q_network_test(state_tensor)\n",
    "    return torch.argmax(q_values).item()\n",
    "\n",
    "for episode in range(test_episodes):\n",
    "    state = env.reset()\n",
    "    done = False\n",
    "    total_reward = 0\n",
    "    repetitive_action_count = 0\n",
    "    last_action = -1\n",
    "    while not done:\n",
    "        env.render()\n",
    "        action = choose_action_test(state)\n",
    "        \n",
    "        if action == last_action:\n",
    "            repetitive_action_count += 1\n",
    "        else:\n",
    "            repetitive_action_count = 0\n",
    "\n",
    "        if repetitive_action_count > 5:  #If the same action is repeated for too long\n",
    "            ls=[0,1,2,3]\n",
    "            ls=[x for x in ls if x!=action]\n",
    "            action = random.choice(ls)\n",
    "\n",
    "        last_action = action\n",
    "\n",
    "        next_state, reward, done, _ = env.step(action)\n",
    "        memory.append((state, action, reward, next_state, done))\n",
    "        state = next_state\n",
    "        total_reward += reward\n",
    "        clear_output(wait=True)"
   ]
  },
  {
   "cell_type": "code",
   "execution_count": null,
   "metadata": {},
   "outputs": [],
   "source": []
  }
 ],
 "metadata": {
  "kernelspec": {
   "display_name": ".venv",
   "language": "python",
   "name": "python3"
  },
  "language_info": {
   "codemirror_mode": {
    "name": "ipython",
    "version": 3
   },
   "file_extension": ".py",
   "mimetype": "text/x-python",
   "name": "python",
   "nbconvert_exporter": "python",
   "pygments_lexer": "ipython3",
   "version": "3.11.10"
  }
 },
 "nbformat": 4,
 "nbformat_minor": 2
}
